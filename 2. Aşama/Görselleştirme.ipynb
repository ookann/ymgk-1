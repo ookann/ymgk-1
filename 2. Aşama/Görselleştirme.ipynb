{
 "cells": [
  {
   "cell_type": "code",
   "execution_count": 35,
   "metadata": {},
   "outputs": [],
   "source": [
    "import pandas as pd\n",
    "import numpy as np\n",
    "import seaborn as sns"
   ]
  },
  {
   "cell_type": "code",
   "execution_count": 3,
   "metadata": {},
   "outputs": [],
   "source": [
    "df = pd.read_excel('Veri.xlsx')"
   ]
  },
  {
   "cell_type": "code",
   "execution_count": 4,
   "metadata": {},
   "outputs": [
    {
     "data": {
      "text/html": [
       "<div>\n",
       "<style scoped>\n",
       "    .dataframe tbody tr th:only-of-type {\n",
       "        vertical-align: middle;\n",
       "    }\n",
       "\n",
       "    .dataframe tbody tr th {\n",
       "        vertical-align: top;\n",
       "    }\n",
       "\n",
       "    .dataframe thead th {\n",
       "        text-align: right;\n",
       "    }\n",
       "</style>\n",
       "<table border=\"1\" class=\"dataframe\">\n",
       "  <thead>\n",
       "    <tr style=\"text-align: right;\">\n",
       "      <th></th>\n",
       "      <th>Tarih</th>\n",
       "      <th>PM10</th>\n",
       "      <th>SO2</th>\n",
       "      <th>CO</th>\n",
       "      <th>NO2</th>\n",
       "      <th>NOX</th>\n",
       "      <th>NO</th>\n",
       "      <th>O3</th>\n",
       "    </tr>\n",
       "  </thead>\n",
       "  <tbody>\n",
       "    <tr>\n",
       "      <th>0</th>\n",
       "      <td>2019-12-31 01:00:56</td>\n",
       "      <td>54.97500</td>\n",
       "      <td>6.545678</td>\n",
       "      <td>995.6281</td>\n",
       "      <td>34.66082</td>\n",
       "      <td>43.315891</td>\n",
       "      <td>8.655071</td>\n",
       "      <td>19.75140</td>\n",
       "    </tr>\n",
       "    <tr>\n",
       "      <th>1</th>\n",
       "      <td>2019-12-31 02:00:56</td>\n",
       "      <td>45.37304</td>\n",
       "      <td>5.765931</td>\n",
       "      <td>948.7495</td>\n",
       "      <td>28.32004</td>\n",
       "      <td>31.354045</td>\n",
       "      <td>3.034007</td>\n",
       "      <td>26.58629</td>\n",
       "    </tr>\n",
       "    <tr>\n",
       "      <th>2</th>\n",
       "      <td>2019-12-31 03:00:56</td>\n",
       "      <td>39.00000</td>\n",
       "      <td>4.894394</td>\n",
       "      <td>863.7662</td>\n",
       "      <td>28.24900</td>\n",
       "      <td>31.433927</td>\n",
       "      <td>3.184924</td>\n",
       "      <td>28.29724</td>\n",
       "    </tr>\n",
       "    <tr>\n",
       "      <th>3</th>\n",
       "      <td>2019-12-31 04:00:56</td>\n",
       "      <td>33.43079</td>\n",
       "      <td>4.682027</td>\n",
       "      <td>897.6104</td>\n",
       "      <td>27.80543</td>\n",
       "      <td>31.361702</td>\n",
       "      <td>3.556277</td>\n",
       "      <td>32.36207</td>\n",
       "    </tr>\n",
       "    <tr>\n",
       "      <th>4</th>\n",
       "      <td>2019-12-31 05:00:56</td>\n",
       "      <td>31.48804</td>\n",
       "      <td>4.374750</td>\n",
       "      <td>850.5870</td>\n",
       "      <td>27.10723</td>\n",
       "      <td>30.216699</td>\n",
       "      <td>3.109464</td>\n",
       "      <td>30.70919</td>\n",
       "    </tr>\n",
       "    <tr>\n",
       "      <th>...</th>\n",
       "      <td>...</td>\n",
       "      <td>...</td>\n",
       "      <td>...</td>\n",
       "      <td>...</td>\n",
       "      <td>...</td>\n",
       "      <td>...</td>\n",
       "      <td>...</td>\n",
       "      <td>...</td>\n",
       "    </tr>\n",
       "    <tr>\n",
       "      <th>2202</th>\n",
       "      <td>2020-03-31 19:00:56</td>\n",
       "      <td>57.66350</td>\n",
       "      <td>4.938501</td>\n",
       "      <td>824.0364</td>\n",
       "      <td>88.64661</td>\n",
       "      <td>97.973483</td>\n",
       "      <td>9.326869</td>\n",
       "      <td>NaN</td>\n",
       "    </tr>\n",
       "    <tr>\n",
       "      <th>2203</th>\n",
       "      <td>2020-03-31 20:00:56</td>\n",
       "      <td>81.21587</td>\n",
       "      <td>9.158525</td>\n",
       "      <td>1145.3430</td>\n",
       "      <td>116.41970</td>\n",
       "      <td>140.783951</td>\n",
       "      <td>24.364270</td>\n",
       "      <td>NaN</td>\n",
       "    </tr>\n",
       "    <tr>\n",
       "      <th>2204</th>\n",
       "      <td>2020-03-31 21:00:56</td>\n",
       "      <td>99.60125</td>\n",
       "      <td>13.093620</td>\n",
       "      <td>1649.8960</td>\n",
       "      <td>111.71010</td>\n",
       "      <td>158.202724</td>\n",
       "      <td>46.492600</td>\n",
       "      <td>NaN</td>\n",
       "    </tr>\n",
       "    <tr>\n",
       "      <th>2205</th>\n",
       "      <td>2020-03-31 22:00:56</td>\n",
       "      <td>107.74620</td>\n",
       "      <td>10.095900</td>\n",
       "      <td>1683.4890</td>\n",
       "      <td>105.11550</td>\n",
       "      <td>162.204761</td>\n",
       "      <td>57.089270</td>\n",
       "      <td>NaN</td>\n",
       "    </tr>\n",
       "    <tr>\n",
       "      <th>2206</th>\n",
       "      <td>2020-03-31 23:00:56</td>\n",
       "      <td>110.74460</td>\n",
       "      <td>10.321850</td>\n",
       "      <td>2147.9140</td>\n",
       "      <td>113.74620</td>\n",
       "      <td>186.225693</td>\n",
       "      <td>72.479540</td>\n",
       "      <td>NaN</td>\n",
       "    </tr>\n",
       "  </tbody>\n",
       "</table>\n",
       "<p>2207 rows × 8 columns</p>\n",
       "</div>"
      ],
      "text/plain": [
       "                   Tarih       PM10        SO2         CO        NO2  \\\n",
       "0    2019-12-31 01:00:56   54.97500   6.545678   995.6281   34.66082   \n",
       "1    2019-12-31 02:00:56   45.37304   5.765931   948.7495   28.32004   \n",
       "2    2019-12-31 03:00:56   39.00000   4.894394   863.7662   28.24900   \n",
       "3    2019-12-31 04:00:56   33.43079   4.682027   897.6104   27.80543   \n",
       "4    2019-12-31 05:00:56   31.48804   4.374750   850.5870   27.10723   \n",
       "...                  ...        ...        ...        ...        ...   \n",
       "2202 2020-03-31 19:00:56   57.66350   4.938501   824.0364   88.64661   \n",
       "2203 2020-03-31 20:00:56   81.21587   9.158525  1145.3430  116.41970   \n",
       "2204 2020-03-31 21:00:56   99.60125  13.093620  1649.8960  111.71010   \n",
       "2205 2020-03-31 22:00:56  107.74620  10.095900  1683.4890  105.11550   \n",
       "2206 2020-03-31 23:00:56  110.74460  10.321850  2147.9140  113.74620   \n",
       "\n",
       "             NOX         NO        O3  \n",
       "0      43.315891   8.655071  19.75140  \n",
       "1      31.354045   3.034007  26.58629  \n",
       "2      31.433927   3.184924  28.29724  \n",
       "3      31.361702   3.556277  32.36207  \n",
       "4      30.216699   3.109464  30.70919  \n",
       "...          ...        ...       ...  \n",
       "2202   97.973483   9.326869       NaN  \n",
       "2203  140.783951  24.364270       NaN  \n",
       "2204  158.202724  46.492600       NaN  \n",
       "2205  162.204761  57.089270       NaN  \n",
       "2206  186.225693  72.479540       NaN  \n",
       "\n",
       "[2207 rows x 8 columns]"
      ]
     },
     "execution_count": 4,
     "metadata": {},
     "output_type": "execute_result"
    }
   ],
   "source": [
    "df"
   ]
  },
  {
   "cell_type": "code",
   "execution_count": 5,
   "metadata": {},
   "outputs": [
    {
     "data": {
      "text/plain": [
       "Tarih     0\n",
       "PM10      3\n",
       "SO2      21\n",
       "CO        7\n",
       "NO2      31\n",
       "NOX      32\n",
       "NO       32\n",
       "O3       26\n",
       "dtype: int64"
      ]
     },
     "execution_count": 5,
     "metadata": {},
     "output_type": "execute_result"
    }
   ],
   "source": [
    "df.isnull().sum()# Boş değerler"
   ]
  },
  {
   "cell_type": "code",
   "execution_count": 6,
   "metadata": {},
   "outputs": [
    {
     "data": {
      "text/plain": [
       "Tarih    datetime64[ns]\n",
       "PM10            float64\n",
       "SO2             float64\n",
       "CO              float64\n",
       "NO2             float64\n",
       "NOX             float64\n",
       "NO              float64\n",
       "O3              float64\n",
       "dtype: object"
      ]
     },
     "execution_count": 6,
     "metadata": {},
     "output_type": "execute_result"
    }
   ],
   "source": [
    "df.dtypes"
   ]
  },
  {
   "cell_type": "code",
   "execution_count": 7,
   "metadata": {
    "scrolled": true
   },
   "outputs": [],
   "source": [
    "dffs = df.select_dtypes(include=['float64'])"
   ]
  },
  {
   "cell_type": "code",
   "execution_count": 8,
   "metadata": {},
   "outputs": [
    {
     "data": {
      "text/html": [
       "<div>\n",
       "<style scoped>\n",
       "    .dataframe tbody tr th:only-of-type {\n",
       "        vertical-align: middle;\n",
       "    }\n",
       "\n",
       "    .dataframe tbody tr th {\n",
       "        vertical-align: top;\n",
       "    }\n",
       "\n",
       "    .dataframe thead th {\n",
       "        text-align: right;\n",
       "    }\n",
       "</style>\n",
       "<table border=\"1\" class=\"dataframe\">\n",
       "  <thead>\n",
       "    <tr style=\"text-align: right;\">\n",
       "      <th></th>\n",
       "      <th>PM10</th>\n",
       "      <th>SO2</th>\n",
       "      <th>CO</th>\n",
       "      <th>NO2</th>\n",
       "      <th>NOX</th>\n",
       "      <th>NO</th>\n",
       "      <th>O3</th>\n",
       "    </tr>\n",
       "  </thead>\n",
       "  <tbody>\n",
       "    <tr>\n",
       "      <th>0</th>\n",
       "      <td>54.97500</td>\n",
       "      <td>6.545678</td>\n",
       "      <td>995.6281</td>\n",
       "      <td>34.66082</td>\n",
       "      <td>43.315891</td>\n",
       "      <td>8.655071</td>\n",
       "      <td>19.75140</td>\n",
       "    </tr>\n",
       "    <tr>\n",
       "      <th>1</th>\n",
       "      <td>45.37304</td>\n",
       "      <td>5.765931</td>\n",
       "      <td>948.7495</td>\n",
       "      <td>28.32004</td>\n",
       "      <td>31.354045</td>\n",
       "      <td>3.034007</td>\n",
       "      <td>26.58629</td>\n",
       "    </tr>\n",
       "    <tr>\n",
       "      <th>2</th>\n",
       "      <td>39.00000</td>\n",
       "      <td>4.894394</td>\n",
       "      <td>863.7662</td>\n",
       "      <td>28.24900</td>\n",
       "      <td>31.433927</td>\n",
       "      <td>3.184924</td>\n",
       "      <td>28.29724</td>\n",
       "    </tr>\n",
       "    <tr>\n",
       "      <th>3</th>\n",
       "      <td>33.43079</td>\n",
       "      <td>4.682027</td>\n",
       "      <td>897.6104</td>\n",
       "      <td>27.80543</td>\n",
       "      <td>31.361702</td>\n",
       "      <td>3.556277</td>\n",
       "      <td>32.36207</td>\n",
       "    </tr>\n",
       "    <tr>\n",
       "      <th>4</th>\n",
       "      <td>31.48804</td>\n",
       "      <td>4.374750</td>\n",
       "      <td>850.5870</td>\n",
       "      <td>27.10723</td>\n",
       "      <td>30.216699</td>\n",
       "      <td>3.109464</td>\n",
       "      <td>30.70919</td>\n",
       "    </tr>\n",
       "  </tbody>\n",
       "</table>\n",
       "</div>"
      ],
      "text/plain": [
       "       PM10       SO2        CO       NO2        NOX        NO        O3\n",
       "0  54.97500  6.545678  995.6281  34.66082  43.315891  8.655071  19.75140\n",
       "1  45.37304  5.765931  948.7495  28.32004  31.354045  3.034007  26.58629\n",
       "2  39.00000  4.894394  863.7662  28.24900  31.433927  3.184924  28.29724\n",
       "3  33.43079  4.682027  897.6104  27.80543  31.361702  3.556277  32.36207\n",
       "4  31.48804  4.374750  850.5870  27.10723  30.216699  3.109464  30.70919"
      ]
     },
     "execution_count": 8,
     "metadata": {},
     "output_type": "execute_result"
    }
   ],
   "source": [
    "dffs.head()"
   ]
  },
  {
   "cell_type": "code",
   "execution_count": 9,
   "metadata": {},
   "outputs": [],
   "source": [
    "dfft = df.select_dtypes(include=['datetime64[ns]'])"
   ]
  },
  {
   "cell_type": "code",
   "execution_count": 10,
   "metadata": {},
   "outputs": [
    {
     "data": {
      "text/html": [
       "<div>\n",
       "<style scoped>\n",
       "    .dataframe tbody tr th:only-of-type {\n",
       "        vertical-align: middle;\n",
       "    }\n",
       "\n",
       "    .dataframe tbody tr th {\n",
       "        vertical-align: top;\n",
       "    }\n",
       "\n",
       "    .dataframe thead th {\n",
       "        text-align: right;\n",
       "    }\n",
       "</style>\n",
       "<table border=\"1\" class=\"dataframe\">\n",
       "  <thead>\n",
       "    <tr style=\"text-align: right;\">\n",
       "      <th></th>\n",
       "      <th>Tarih</th>\n",
       "    </tr>\n",
       "  </thead>\n",
       "  <tbody>\n",
       "    <tr>\n",
       "      <th>0</th>\n",
       "      <td>2019-12-31 01:00:56</td>\n",
       "    </tr>\n",
       "    <tr>\n",
       "      <th>1</th>\n",
       "      <td>2019-12-31 02:00:56</td>\n",
       "    </tr>\n",
       "    <tr>\n",
       "      <th>2</th>\n",
       "      <td>2019-12-31 03:00:56</td>\n",
       "    </tr>\n",
       "    <tr>\n",
       "      <th>3</th>\n",
       "      <td>2019-12-31 04:00:56</td>\n",
       "    </tr>\n",
       "    <tr>\n",
       "      <th>4</th>\n",
       "      <td>2019-12-31 05:00:56</td>\n",
       "    </tr>\n",
       "  </tbody>\n",
       "</table>\n",
       "</div>"
      ],
      "text/plain": [
       "                Tarih\n",
       "0 2019-12-31 01:00:56\n",
       "1 2019-12-31 02:00:56\n",
       "2 2019-12-31 03:00:56\n",
       "3 2019-12-31 04:00:56\n",
       "4 2019-12-31 05:00:56"
      ]
     },
     "execution_count": 10,
     "metadata": {},
     "output_type": "execute_result"
    }
   ],
   "source": [
    "dfft.head()"
   ]
  },
  {
   "cell_type": "code",
   "execution_count": 26,
   "metadata": {},
   "outputs": [
    {
     "data": {
      "text/html": [
       "<div>\n",
       "<style scoped>\n",
       "    .dataframe tbody tr th:only-of-type {\n",
       "        vertical-align: middle;\n",
       "    }\n",
       "\n",
       "    .dataframe tbody tr th {\n",
       "        vertical-align: top;\n",
       "    }\n",
       "\n",
       "    .dataframe thead th {\n",
       "        text-align: right;\n",
       "    }\n",
       "</style>\n",
       "<table border=\"1\" class=\"dataframe\">\n",
       "  <thead>\n",
       "    <tr style=\"text-align: right;\">\n",
       "      <th></th>\n",
       "      <th>count</th>\n",
       "      <th>mean</th>\n",
       "      <th>std</th>\n",
       "      <th>min</th>\n",
       "      <th>25%</th>\n",
       "      <th>50%</th>\n",
       "      <th>75%</th>\n",
       "      <th>max</th>\n",
       "    </tr>\n",
       "  </thead>\n",
       "  <tbody>\n",
       "    <tr>\n",
       "      <th>PM10</th>\n",
       "      <td>2204.0</td>\n",
       "      <td>49.709945</td>\n",
       "      <td>43.788225</td>\n",
       "      <td>0.512678</td>\n",
       "      <td>22.591853</td>\n",
       "      <td>35.104500</td>\n",
       "      <td>58.889978</td>\n",
       "      <td>315.03270</td>\n",
       "    </tr>\n",
       "    <tr>\n",
       "      <th>SO2</th>\n",
       "      <td>2186.0</td>\n",
       "      <td>7.161496</td>\n",
       "      <td>5.637076</td>\n",
       "      <td>0.746903</td>\n",
       "      <td>3.482627</td>\n",
       "      <td>5.501926</td>\n",
       "      <td>8.826291</td>\n",
       "      <td>50.11485</td>\n",
       "    </tr>\n",
       "    <tr>\n",
       "      <th>CO</th>\n",
       "      <td>2200.0</td>\n",
       "      <td>972.226671</td>\n",
       "      <td>672.854927</td>\n",
       "      <td>275.579400</td>\n",
       "      <td>543.157400</td>\n",
       "      <td>746.091650</td>\n",
       "      <td>1124.212500</td>\n",
       "      <td>5671.22400</td>\n",
       "    </tr>\n",
       "    <tr>\n",
       "      <th>NO2</th>\n",
       "      <td>2176.0</td>\n",
       "      <td>54.648978</td>\n",
       "      <td>31.415788</td>\n",
       "      <td>6.708543</td>\n",
       "      <td>31.359272</td>\n",
       "      <td>47.105620</td>\n",
       "      <td>70.977615</td>\n",
       "      <td>177.18950</td>\n",
       "    </tr>\n",
       "    <tr>\n",
       "      <th>NOX</th>\n",
       "      <td>2175.0</td>\n",
       "      <td>108.659853</td>\n",
       "      <td>123.288985</td>\n",
       "      <td>7.811486</td>\n",
       "      <td>38.884840</td>\n",
       "      <td>61.184680</td>\n",
       "      <td>117.009762</td>\n",
       "      <td>871.56749</td>\n",
       "    </tr>\n",
       "    <tr>\n",
       "      <th>NO</th>\n",
       "      <td>2175.0</td>\n",
       "      <td>54.029072</td>\n",
       "      <td>96.056928</td>\n",
       "      <td>0.249827</td>\n",
       "      <td>6.363998</td>\n",
       "      <td>14.302990</td>\n",
       "      <td>46.547085</td>\n",
       "      <td>704.10250</td>\n",
       "    </tr>\n",
       "    <tr>\n",
       "      <th>O3</th>\n",
       "      <td>2181.0</td>\n",
       "      <td>43.684542</td>\n",
       "      <td>22.337313</td>\n",
       "      <td>2.116996</td>\n",
       "      <td>26.598340</td>\n",
       "      <td>43.117600</td>\n",
       "      <td>60.785300</td>\n",
       "      <td>111.27370</td>\n",
       "    </tr>\n",
       "  </tbody>\n",
       "</table>\n",
       "</div>"
      ],
      "text/plain": [
       "       count        mean         std         min         25%         50%  \\\n",
       "PM10  2204.0   49.709945   43.788225    0.512678   22.591853   35.104500   \n",
       "SO2   2186.0    7.161496    5.637076    0.746903    3.482627    5.501926   \n",
       "CO    2200.0  972.226671  672.854927  275.579400  543.157400  746.091650   \n",
       "NO2   2176.0   54.648978   31.415788    6.708543   31.359272   47.105620   \n",
       "NOX   2175.0  108.659853  123.288985    7.811486   38.884840   61.184680   \n",
       "NO    2175.0   54.029072   96.056928    0.249827    6.363998   14.302990   \n",
       "O3    2181.0   43.684542   22.337313    2.116996   26.598340   43.117600   \n",
       "\n",
       "              75%         max  \n",
       "PM10    58.889978   315.03270  \n",
       "SO2      8.826291    50.11485  \n",
       "CO    1124.212500  5671.22400  \n",
       "NO2     70.977615   177.18950  \n",
       "NOX    117.009762   871.56749  \n",
       "NO      46.547085   704.10250  \n",
       "O3      60.785300   111.27370  "
      ]
     },
     "execution_count": 26,
     "metadata": {},
     "output_type": "execute_result"
    }
   ],
   "source": [
    "dffs.describe().T"
   ]
  },
  {
   "cell_type": "code",
   "execution_count": 11,
   "metadata": {},
   "outputs": [],
   "source": [
    "import missingno as msno"
   ]
  },
  {
   "cell_type": "code",
   "execution_count": 13,
   "metadata": {},
   "outputs": [
    {
     "data": {
      "text/plain": [
       "<matplotlib.axes._subplots.AxesSubplot at 0x188d0b0fdc8>"
      ]
     },
     "execution_count": 13,
     "metadata": {},
     "output_type": "execute_result"
    },
    {
     "data": {
      "image/png": "[encoded data removed]",
      "text/plain": [
       "<Figure size 1800x720 with 2 Axes>"
      ]
     },
     "metadata": {
      "needs_background": "light"
     },
     "output_type": "display_data"
    }
   ],
   "source": [
    "msno.matrix(dffs) #Boş değerleri matriste gösterilir."
   ]
  },
  {
   "cell_type": "code",
   "execution_count": 14,
   "metadata": {},
   "outputs": [
    {
     "name": "stderr",
     "output_type": "stream",
     "text": [
      "Using TensorFlow backend.\n"
     ]
    }
   ],
   "source": [
    "from fancyimpute import KNN"
   ]
  },
  {
   "cell_type": "code",
   "execution_count": 15,
   "metadata": {},
   "outputs": [],
   "source": [
    "var_date = list(dfft)"
   ]
  },
  {
   "cell_type": "code",
   "execution_count": 16,
   "metadata": {},
   "outputs": [],
   "source": [
    "var_names = list(dffs)"
   ]
  },
  {
   "cell_type": "code",
   "execution_count": 17,
   "metadata": {},
   "outputs": [
    {
     "name": "stdout",
     "output_type": "stream",
     "text": [
      "Imputing row 1/2207 with 0 missing, elapsed time: 0.846\n",
      "Imputing row 101/2207 with 0 missing, elapsed time: 0.846\n",
      "Imputing row 201/2207 with 0 missing, elapsed time: 0.846\n",
      "Imputing row 301/2207 with 0 missing, elapsed time: 0.846\n",
      "Imputing row 401/2207 with 0 missing, elapsed time: 0.846\n",
      "Imputing row 501/2207 with 0 missing, elapsed time: 0.854\n",
      "Imputing row 601/2207 with 0 missing, elapsed time: 0.854\n",
      "Imputing row 701/2207 with 0 missing, elapsed time: 0.854\n",
      "Imputing row 801/2207 with 0 missing, elapsed time: 0.854\n",
      "Imputing row 901/2207 with 0 missing, elapsed time: 0.854\n",
      "Imputing row 1001/2207 with 0 missing, elapsed time: 0.854\n",
      "Imputing row 1101/2207 with 0 missing, elapsed time: 0.854\n",
      "Imputing row 1201/2207 with 0 missing, elapsed time: 0.854\n",
      "Imputing row 1301/2207 with 0 missing, elapsed time: 0.854\n",
      "Imputing row 1401/2207 with 0 missing, elapsed time: 0.854\n",
      "Imputing row 1501/2207 with 0 missing, elapsed time: 0.854\n",
      "Imputing row 1601/2207 with 0 missing, elapsed time: 0.854\n",
      "Imputing row 1701/2207 with 0 missing, elapsed time: 0.864\n",
      "Imputing row 1801/2207 with 0 missing, elapsed time: 0.864\n",
      "Imputing row 1901/2207 with 0 missing, elapsed time: 0.864\n",
      "Imputing row 2001/2207 with 0 missing, elapsed time: 0.866\n",
      "Imputing row 2101/2207 with 0 missing, elapsed time: 0.866\n",
      "Imputing row 2201/2207 with 1 missing, elapsed time: 0.866\n"
     ]
    }
   ],
   "source": [
    "knn_imp = KNN(k=7).fit_transform(dffs);#knn ile boş değerleri doldurdum"
   ]
  },
  {
   "cell_type": "code",
   "execution_count": 18,
   "metadata": {},
   "outputs": [
    {
     "data": {
      "text/plain": [
       "array([[ 54.975    ,   6.545678 , 995.6281   ,  34.66082  ,  43.3158913,\n",
       "          8.655071 ,  19.7514   ],\n",
       "       [ 45.37304  ,   5.765931 , 948.7495   ,  28.32004  ,  31.3540452,\n",
       "          3.034007 ,  26.58629  ],\n",
       "       [ 39.       ,   4.894394 , 863.7662   ,  28.249    ,  31.4339268,\n",
       "          3.184924 ,  28.29724  ],\n",
       "       [ 33.43079  ,   4.682027 , 897.6104   ,  27.80543  ,  31.3617024,\n",
       "          3.556277 ,  32.36207  ],\n",
       "       [ 31.48804  ,   4.37475  , 850.587    ,  27.10723  ,  30.2166994,\n",
       "          3.109464 ,  30.70919  ],\n",
       "       [ 30.56363  ,   4.523359 , 859.4338   ,  28.1499   ,  34.7971978,\n",
       "          6.647299 ,  30.64463  ],\n",
       "       [ 33.14196  ,   4.222138 , 842.9839   ,  29.11382  ,  36.4292073,\n",
       "          7.315384 ,  28.91076  ],\n",
       "       [ 38.66917  ,   7.498477 , 983.325    ,  51.54393  , 136.0816879,\n",
       "         84.53776  ,  19.79287  ],\n",
       "       [ 43.01842  ,   8.323901 , 985.0536   ,  45.76876  , 106.625927 ,\n",
       "         60.85716  ,  11.65977  ],\n",
       "       [ 41.95463  ,   8.08676  , 911.9115   ,  46.16904  , 103.2346191,\n",
       "         57.06558  ,  14.66724  ]])"
      ]
     },
     "execution_count": 18,
     "metadata": {},
     "output_type": "execute_result"
    }
   ],
   "source": [
    "knn_imp[0:10]"
   ]
  },
  {
   "cell_type": "code",
   "execution_count": 19,
   "metadata": {},
   "outputs": [],
   "source": [
    "dff = pd.DataFrame(knn_imp)"
   ]
  },
  {
   "cell_type": "code",
   "execution_count": 20,
   "metadata": {},
   "outputs": [
    {
     "data": {
      "text/html": [
       "<div>\n",
       "<style scoped>\n",
       "    .dataframe tbody tr th:only-of-type {\n",
       "        vertical-align: middle;\n",
       "    }\n",
       "\n",
       "    .dataframe tbody tr th {\n",
       "        vertical-align: top;\n",
       "    }\n",
       "\n",
       "    .dataframe thead th {\n",
       "        text-align: right;\n",
       "    }\n",
       "</style>\n",
       "<table border=\"1\" class=\"dataframe\">\n",
       "  <thead>\n",
       "    <tr style=\"text-align: right;\">\n",
       "      <th></th>\n",
       "      <th>0</th>\n",
       "      <th>1</th>\n",
       "      <th>2</th>\n",
       "      <th>3</th>\n",
       "      <th>4</th>\n",
       "      <th>5</th>\n",
       "      <th>6</th>\n",
       "    </tr>\n",
       "  </thead>\n",
       "  <tbody>\n",
       "    <tr>\n",
       "      <th>0</th>\n",
       "      <td>54.97500</td>\n",
       "      <td>6.545678</td>\n",
       "      <td>995.6281</td>\n",
       "      <td>34.66082</td>\n",
       "      <td>43.315891</td>\n",
       "      <td>8.655071</td>\n",
       "      <td>19.75140</td>\n",
       "    </tr>\n",
       "    <tr>\n",
       "      <th>1</th>\n",
       "      <td>45.37304</td>\n",
       "      <td>5.765931</td>\n",
       "      <td>948.7495</td>\n",
       "      <td>28.32004</td>\n",
       "      <td>31.354045</td>\n",
       "      <td>3.034007</td>\n",
       "      <td>26.58629</td>\n",
       "    </tr>\n",
       "    <tr>\n",
       "      <th>2</th>\n",
       "      <td>39.00000</td>\n",
       "      <td>4.894394</td>\n",
       "      <td>863.7662</td>\n",
       "      <td>28.24900</td>\n",
       "      <td>31.433927</td>\n",
       "      <td>3.184924</td>\n",
       "      <td>28.29724</td>\n",
       "    </tr>\n",
       "    <tr>\n",
       "      <th>3</th>\n",
       "      <td>33.43079</td>\n",
       "      <td>4.682027</td>\n",
       "      <td>897.6104</td>\n",
       "      <td>27.80543</td>\n",
       "      <td>31.361702</td>\n",
       "      <td>3.556277</td>\n",
       "      <td>32.36207</td>\n",
       "    </tr>\n",
       "    <tr>\n",
       "      <th>4</th>\n",
       "      <td>31.48804</td>\n",
       "      <td>4.374750</td>\n",
       "      <td>850.5870</td>\n",
       "      <td>27.10723</td>\n",
       "      <td>30.216699</td>\n",
       "      <td>3.109464</td>\n",
       "      <td>30.70919</td>\n",
       "    </tr>\n",
       "  </tbody>\n",
       "</table>\n",
       "</div>"
      ],
      "text/plain": [
       "          0         1         2         3          4         5         6\n",
       "0  54.97500  6.545678  995.6281  34.66082  43.315891  8.655071  19.75140\n",
       "1  45.37304  5.765931  948.7495  28.32004  31.354045  3.034007  26.58629\n",
       "2  39.00000  4.894394  863.7662  28.24900  31.433927  3.184924  28.29724\n",
       "3  33.43079  4.682027  897.6104  27.80543  31.361702  3.556277  32.36207\n",
       "4  31.48804  4.374750  850.5870  27.10723  30.216699  3.109464  30.70919"
      ]
     },
     "execution_count": 20,
     "metadata": {},
     "output_type": "execute_result"
    }
   ],
   "source": [
    "dff.head()"
   ]
  },
  {
   "cell_type": "code",
   "execution_count": 21,
   "metadata": {},
   "outputs": [],
   "source": [
    "dff.columns = var_names"
   ]
  },
  {
   "cell_type": "code",
   "execution_count": 22,
   "metadata": {},
   "outputs": [
    {
     "data": {
      "text/html": [
       "<div>\n",
       "<style scoped>\n",
       "    .dataframe tbody tr th:only-of-type {\n",
       "        vertical-align: middle;\n",
       "    }\n",
       "\n",
       "    .dataframe tbody tr th {\n",
       "        vertical-align: top;\n",
       "    }\n",
       "\n",
       "    .dataframe thead th {\n",
       "        text-align: right;\n",
       "    }\n",
       "</style>\n",
       "<table border=\"1\" class=\"dataframe\">\n",
       "  <thead>\n",
       "    <tr style=\"text-align: right;\">\n",
       "      <th></th>\n",
       "      <th>PM10</th>\n",
       "      <th>SO2</th>\n",
       "      <th>CO</th>\n",
       "      <th>NO2</th>\n",
       "      <th>NOX</th>\n",
       "      <th>NO</th>\n",
       "      <th>O3</th>\n",
       "    </tr>\n",
       "  </thead>\n",
       "  <tbody>\n",
       "    <tr>\n",
       "      <th>0</th>\n",
       "      <td>54.97500</td>\n",
       "      <td>6.545678</td>\n",
       "      <td>995.6281</td>\n",
       "      <td>34.66082</td>\n",
       "      <td>43.315891</td>\n",
       "      <td>8.655071</td>\n",
       "      <td>19.75140</td>\n",
       "    </tr>\n",
       "    <tr>\n",
       "      <th>1</th>\n",
       "      <td>45.37304</td>\n",
       "      <td>5.765931</td>\n",
       "      <td>948.7495</td>\n",
       "      <td>28.32004</td>\n",
       "      <td>31.354045</td>\n",
       "      <td>3.034007</td>\n",
       "      <td>26.58629</td>\n",
       "    </tr>\n",
       "    <tr>\n",
       "      <th>2</th>\n",
       "      <td>39.00000</td>\n",
       "      <td>4.894394</td>\n",
       "      <td>863.7662</td>\n",
       "      <td>28.24900</td>\n",
       "      <td>31.433927</td>\n",
       "      <td>3.184924</td>\n",
       "      <td>28.29724</td>\n",
       "    </tr>\n",
       "    <tr>\n",
       "      <th>3</th>\n",
       "      <td>33.43079</td>\n",
       "      <td>4.682027</td>\n",
       "      <td>897.6104</td>\n",
       "      <td>27.80543</td>\n",
       "      <td>31.361702</td>\n",
       "      <td>3.556277</td>\n",
       "      <td>32.36207</td>\n",
       "    </tr>\n",
       "    <tr>\n",
       "      <th>4</th>\n",
       "      <td>31.48804</td>\n",
       "      <td>4.374750</td>\n",
       "      <td>850.5870</td>\n",
       "      <td>27.10723</td>\n",
       "      <td>30.216699</td>\n",
       "      <td>3.109464</td>\n",
       "      <td>30.70919</td>\n",
       "    </tr>\n",
       "  </tbody>\n",
       "</table>\n",
       "</div>"
      ],
      "text/plain": [
       "       PM10       SO2        CO       NO2        NOX        NO        O3\n",
       "0  54.97500  6.545678  995.6281  34.66082  43.315891  8.655071  19.75140\n",
       "1  45.37304  5.765931  948.7495  28.32004  31.354045  3.034007  26.58629\n",
       "2  39.00000  4.894394  863.7662  28.24900  31.433927  3.184924  28.29724\n",
       "3  33.43079  4.682027  897.6104  27.80543  31.361702  3.556277  32.36207\n",
       "4  31.48804  4.374750  850.5870  27.10723  30.216699  3.109464  30.70919"
      ]
     },
     "execution_count": 22,
     "metadata": {},
     "output_type": "execute_result"
    }
   ],
   "source": [
    "dff.head()"
   ]
  },
  {
   "cell_type": "code",
   "execution_count": 23,
   "metadata": {},
   "outputs": [],
   "source": [
    "date_var_concat = pd.concat([dfft, dff], axis=1, sort=False)"
   ]
  },
  {
   "cell_type": "code",
   "execution_count": 24,
   "metadata": {},
   "outputs": [
    {
     "data": {
      "text/html": [
       "<div>\n",
       "<style scoped>\n",
       "    .dataframe tbody tr th:only-of-type {\n",
       "        vertical-align: middle;\n",
       "    }\n",
       "\n",
       "    .dataframe tbody tr th {\n",
       "        vertical-align: top;\n",
       "    }\n",
       "\n",
       "    .dataframe thead th {\n",
       "        text-align: right;\n",
       "    }\n",
       "</style>\n",
       "<table border=\"1\" class=\"dataframe\">\n",
       "  <thead>\n",
       "    <tr style=\"text-align: right;\">\n",
       "      <th></th>\n",
       "      <th>Tarih</th>\n",
       "      <th>PM10</th>\n",
       "      <th>SO2</th>\n",
       "      <th>CO</th>\n",
       "      <th>NO2</th>\n",
       "      <th>NOX</th>\n",
       "      <th>NO</th>\n",
       "      <th>O3</th>\n",
       "    </tr>\n",
       "  </thead>\n",
       "  <tbody>\n",
       "    <tr>\n",
       "      <th>0</th>\n",
       "      <td>2019-12-31 01:00:56</td>\n",
       "      <td>54.97500</td>\n",
       "      <td>6.545678</td>\n",
       "      <td>995.6281</td>\n",
       "      <td>34.66082</td>\n",
       "      <td>43.315891</td>\n",
       "      <td>8.655071</td>\n",
       "      <td>19.75140</td>\n",
       "    </tr>\n",
       "    <tr>\n",
       "      <th>1</th>\n",
       "      <td>2019-12-31 02:00:56</td>\n",
       "      <td>45.37304</td>\n",
       "      <td>5.765931</td>\n",
       "      <td>948.7495</td>\n",
       "      <td>28.32004</td>\n",
       "      <td>31.354045</td>\n",
       "      <td>3.034007</td>\n",
       "      <td>26.58629</td>\n",
       "    </tr>\n",
       "    <tr>\n",
       "      <th>2</th>\n",
       "      <td>2019-12-31 03:00:56</td>\n",
       "      <td>39.00000</td>\n",
       "      <td>4.894394</td>\n",
       "      <td>863.7662</td>\n",
       "      <td>28.24900</td>\n",
       "      <td>31.433927</td>\n",
       "      <td>3.184924</td>\n",
       "      <td>28.29724</td>\n",
       "    </tr>\n",
       "    <tr>\n",
       "      <th>3</th>\n",
       "      <td>2019-12-31 04:00:56</td>\n",
       "      <td>33.43079</td>\n",
       "      <td>4.682027</td>\n",
       "      <td>897.6104</td>\n",
       "      <td>27.80543</td>\n",
       "      <td>31.361702</td>\n",
       "      <td>3.556277</td>\n",
       "      <td>32.36207</td>\n",
       "    </tr>\n",
       "    <tr>\n",
       "      <th>4</th>\n",
       "      <td>2019-12-31 05:00:56</td>\n",
       "      <td>31.48804</td>\n",
       "      <td>4.374750</td>\n",
       "      <td>850.5870</td>\n",
       "      <td>27.10723</td>\n",
       "      <td>30.216699</td>\n",
       "      <td>3.109464</td>\n",
       "      <td>30.70919</td>\n",
       "    </tr>\n",
       "  </tbody>\n",
       "</table>\n",
       "</div>"
      ],
      "text/plain": [
       "                Tarih      PM10       SO2        CO       NO2        NOX  \\\n",
       "0 2019-12-31 01:00:56  54.97500  6.545678  995.6281  34.66082  43.315891   \n",
       "1 2019-12-31 02:00:56  45.37304  5.765931  948.7495  28.32004  31.354045   \n",
       "2 2019-12-31 03:00:56  39.00000  4.894394  863.7662  28.24900  31.433927   \n",
       "3 2019-12-31 04:00:56  33.43079  4.682027  897.6104  27.80543  31.361702   \n",
       "4 2019-12-31 05:00:56  31.48804  4.374750  850.5870  27.10723  30.216699   \n",
       "\n",
       "         NO        O3  \n",
       "0  8.655071  19.75140  \n",
       "1  3.034007  26.58629  \n",
       "2  3.184924  28.29724  \n",
       "3  3.556277  32.36207  \n",
       "4  3.109464  30.70919  "
      ]
     },
     "execution_count": 24,
     "metadata": {},
     "output_type": "execute_result"
    }
   ],
   "source": [
    "date_var_concat.head()"
   ]
  },
  {
   "cell_type": "code",
   "execution_count": 25,
   "metadata": {},
   "outputs": [
    {
     "data": {
      "text/plain": [
       "Tarih    0\n",
       "PM10     0\n",
       "SO2      0\n",
       "CO       0\n",
       "NO2      0\n",
       "NOX      0\n",
       "NO       0\n",
       "O3       0\n",
       "dtype: int64"
      ]
     },
     "execution_count": 25,
     "metadata": {},
     "output_type": "execute_result"
    }
   ],
   "source": [
    "date_var_concat.isnull().sum()"
   ]
  },
  {
   "cell_type": "code",
   "execution_count": 27,
   "metadata": {},
   "outputs": [],
   "source": [
    "veri = date_var_concat"
   ]
  },
  {
   "cell_type": "code",
   "execution_count": 28,
   "metadata": {},
   "outputs": [
    {
     "data": {
      "text/html": [
       "<div>\n",
       "<style scoped>\n",
       "    .dataframe tbody tr th:only-of-type {\n",
       "        vertical-align: middle;\n",
       "    }\n",
       "\n",
       "    .dataframe tbody tr th {\n",
       "        vertical-align: top;\n",
       "    }\n",
       "\n",
       "    .dataframe thead th {\n",
       "        text-align: right;\n",
       "    }\n",
       "</style>\n",
       "<table border=\"1\" class=\"dataframe\">\n",
       "  <thead>\n",
       "    <tr style=\"text-align: right;\">\n",
       "      <th></th>\n",
       "      <th>Tarih</th>\n",
       "      <th>PM10</th>\n",
       "      <th>SO2</th>\n",
       "      <th>CO</th>\n",
       "      <th>NO2</th>\n",
       "      <th>NOX</th>\n",
       "      <th>NO</th>\n",
       "      <th>O3</th>\n",
       "    </tr>\n",
       "  </thead>\n",
       "  <tbody>\n",
       "    <tr>\n",
       "      <th>0</th>\n",
       "      <td>2019-12-31 01:00:56</td>\n",
       "      <td>54.97500</td>\n",
       "      <td>6.545678</td>\n",
       "      <td>995.6281</td>\n",
       "      <td>34.66082</td>\n",
       "      <td>43.315891</td>\n",
       "      <td>8.655071</td>\n",
       "      <td>19.75140</td>\n",
       "    </tr>\n",
       "    <tr>\n",
       "      <th>1</th>\n",
       "      <td>2019-12-31 02:00:56</td>\n",
       "      <td>45.37304</td>\n",
       "      <td>5.765931</td>\n",
       "      <td>948.7495</td>\n",
       "      <td>28.32004</td>\n",
       "      <td>31.354045</td>\n",
       "      <td>3.034007</td>\n",
       "      <td>26.58629</td>\n",
       "    </tr>\n",
       "    <tr>\n",
       "      <th>2</th>\n",
       "      <td>2019-12-31 03:00:56</td>\n",
       "      <td>39.00000</td>\n",
       "      <td>4.894394</td>\n",
       "      <td>863.7662</td>\n",
       "      <td>28.24900</td>\n",
       "      <td>31.433927</td>\n",
       "      <td>3.184924</td>\n",
       "      <td>28.29724</td>\n",
       "    </tr>\n",
       "    <tr>\n",
       "      <th>3</th>\n",
       "      <td>2019-12-31 04:00:56</td>\n",
       "      <td>33.43079</td>\n",
       "      <td>4.682027</td>\n",
       "      <td>897.6104</td>\n",
       "      <td>27.80543</td>\n",
       "      <td>31.361702</td>\n",
       "      <td>3.556277</td>\n",
       "      <td>32.36207</td>\n",
       "    </tr>\n",
       "    <tr>\n",
       "      <th>4</th>\n",
       "      <td>2019-12-31 05:00:56</td>\n",
       "      <td>31.48804</td>\n",
       "      <td>4.374750</td>\n",
       "      <td>850.5870</td>\n",
       "      <td>27.10723</td>\n",
       "      <td>30.216699</td>\n",
       "      <td>3.109464</td>\n",
       "      <td>30.70919</td>\n",
       "    </tr>\n",
       "  </tbody>\n",
       "</table>\n",
       "</div>"
      ],
      "text/plain": [
       "                Tarih      PM10       SO2        CO       NO2        NOX  \\\n",
       "0 2019-12-31 01:00:56  54.97500  6.545678  995.6281  34.66082  43.315891   \n",
       "1 2019-12-31 02:00:56  45.37304  5.765931  948.7495  28.32004  31.354045   \n",
       "2 2019-12-31 03:00:56  39.00000  4.894394  863.7662  28.24900  31.433927   \n",
       "3 2019-12-31 04:00:56  33.43079  4.682027  897.6104  27.80543  31.361702   \n",
       "4 2019-12-31 05:00:56  31.48804  4.374750  850.5870  27.10723  30.216699   \n",
       "\n",
       "         NO        O3  \n",
       "0  8.655071  19.75140  \n",
       "1  3.034007  26.58629  \n",
       "2  3.184924  28.29724  \n",
       "3  3.556277  32.36207  \n",
       "4  3.109464  30.70919  "
      ]
     },
     "execution_count": 28,
     "metadata": {},
     "output_type": "execute_result"
    }
   ],
   "source": [
    "veri.head()"
   ]
  },
  {
   "cell_type": "code",
   "execution_count": 31,
   "metadata": {},
   "outputs": [
    {
     "data": {
      "text/html": [
       "<div>\n",
       "<style scoped>\n",
       "    .dataframe tbody tr th:only-of-type {\n",
       "        vertical-align: middle;\n",
       "    }\n",
       "\n",
       "    .dataframe tbody tr th {\n",
       "        vertical-align: top;\n",
       "    }\n",
       "\n",
       "    .dataframe thead th {\n",
       "        text-align: right;\n",
       "    }\n",
       "</style>\n",
       "<table border=\"1\" class=\"dataframe\">\n",
       "  <thead>\n",
       "    <tr style=\"text-align: right;\">\n",
       "      <th></th>\n",
       "      <th>Tarih</th>\n",
       "      <th>PM10</th>\n",
       "      <th>SO2</th>\n",
       "      <th>CO</th>\n",
       "      <th>NO2</th>\n",
       "      <th>NOX</th>\n",
       "      <th>NO</th>\n",
       "      <th>O3</th>\n",
       "    </tr>\n",
       "  </thead>\n",
       "  <tbody>\n",
       "    <tr>\n",
       "      <th>count</th>\n",
       "      <td>2207</td>\n",
       "      <td>2207.000000</td>\n",
       "      <td>2207.000000</td>\n",
       "      <td>2207.000000</td>\n",
       "      <td>2207.000000</td>\n",
       "      <td>2207.000000</td>\n",
       "      <td>2207.000000</td>\n",
       "      <td>2207.000000</td>\n",
       "    </tr>\n",
       "    <tr>\n",
       "      <th>unique</th>\n",
       "      <td>2207</td>\n",
       "      <td>NaN</td>\n",
       "      <td>NaN</td>\n",
       "      <td>NaN</td>\n",
       "      <td>NaN</td>\n",
       "      <td>NaN</td>\n",
       "      <td>NaN</td>\n",
       "      <td>NaN</td>\n",
       "    </tr>\n",
       "    <tr>\n",
       "      <th>top</th>\n",
       "      <td>2020-03-06 13:00:56</td>\n",
       "      <td>NaN</td>\n",
       "      <td>NaN</td>\n",
       "      <td>NaN</td>\n",
       "      <td>NaN</td>\n",
       "      <td>NaN</td>\n",
       "      <td>NaN</td>\n",
       "      <td>NaN</td>\n",
       "    </tr>\n",
       "    <tr>\n",
       "      <th>freq</th>\n",
       "      <td>1</td>\n",
       "      <td>NaN</td>\n",
       "      <td>NaN</td>\n",
       "      <td>NaN</td>\n",
       "      <td>NaN</td>\n",
       "      <td>NaN</td>\n",
       "      <td>NaN</td>\n",
       "      <td>NaN</td>\n",
       "    </tr>\n",
       "    <tr>\n",
       "      <th>first</th>\n",
       "      <td>2019-12-31 01:00:56</td>\n",
       "      <td>NaN</td>\n",
       "      <td>NaN</td>\n",
       "      <td>NaN</td>\n",
       "      <td>NaN</td>\n",
       "      <td>NaN</td>\n",
       "      <td>NaN</td>\n",
       "      <td>NaN</td>\n",
       "    </tr>\n",
       "    <tr>\n",
       "      <th>last</th>\n",
       "      <td>2020-03-31 23:00:56</td>\n",
       "      <td>NaN</td>\n",
       "      <td>NaN</td>\n",
       "      <td>NaN</td>\n",
       "      <td>NaN</td>\n",
       "      <td>NaN</td>\n",
       "      <td>NaN</td>\n",
       "      <td>NaN</td>\n",
       "    </tr>\n",
       "    <tr>\n",
       "      <th>mean</th>\n",
       "      <td>NaN</td>\n",
       "      <td>49.735173</td>\n",
       "      <td>7.141684</td>\n",
       "      <td>972.760436</td>\n",
       "      <td>54.454861</td>\n",
       "      <td>108.032095</td>\n",
       "      <td>53.576528</td>\n",
       "      <td>43.806591</td>\n",
       "    </tr>\n",
       "    <tr>\n",
       "      <th>std</th>\n",
       "      <td>NaN</td>\n",
       "      <td>43.780264</td>\n",
       "      <td>5.624395</td>\n",
       "      <td>672.720996</td>\n",
       "      <td>31.286376</td>\n",
       "      <td>122.661496</td>\n",
       "      <td>95.536672</td>\n",
       "      <td>22.247799</td>\n",
       "    </tr>\n",
       "    <tr>\n",
       "      <th>min</th>\n",
       "      <td>NaN</td>\n",
       "      <td>0.512678</td>\n",
       "      <td>0.746903</td>\n",
       "      <td>275.579400</td>\n",
       "      <td>6.708543</td>\n",
       "      <td>7.811486</td>\n",
       "      <td>0.249827</td>\n",
       "      <td>2.116996</td>\n",
       "    </tr>\n",
       "    <tr>\n",
       "      <th>25%</th>\n",
       "      <td>NaN</td>\n",
       "      <td>22.616850</td>\n",
       "      <td>3.462235</td>\n",
       "      <td>544.734900</td>\n",
       "      <td>31.362905</td>\n",
       "      <td>38.884840</td>\n",
       "      <td>6.384502</td>\n",
       "      <td>26.887000</td>\n",
       "    </tr>\n",
       "    <tr>\n",
       "      <th>50%</th>\n",
       "      <td>NaN</td>\n",
       "      <td>35.138080</td>\n",
       "      <td>5.488467</td>\n",
       "      <td>746.606200</td>\n",
       "      <td>46.915160</td>\n",
       "      <td>60.933628</td>\n",
       "      <td>14.194480</td>\n",
       "      <td>43.470310</td>\n",
       "    </tr>\n",
       "    <tr>\n",
       "      <th>75%</th>\n",
       "      <td>NaN</td>\n",
       "      <td>58.893165</td>\n",
       "      <td>8.820229</td>\n",
       "      <td>1127.219500</td>\n",
       "      <td>70.422775</td>\n",
       "      <td>114.960413</td>\n",
       "      <td>45.528445</td>\n",
       "      <td>60.582250</td>\n",
       "    </tr>\n",
       "    <tr>\n",
       "      <th>max</th>\n",
       "      <td>NaN</td>\n",
       "      <td>315.032700</td>\n",
       "      <td>50.114850</td>\n",
       "      <td>5671.224000</td>\n",
       "      <td>177.189500</td>\n",
       "      <td>871.567490</td>\n",
       "      <td>704.102500</td>\n",
       "      <td>111.273700</td>\n",
       "    </tr>\n",
       "  </tbody>\n",
       "</table>\n",
       "</div>"
      ],
      "text/plain": [
       "                      Tarih         PM10          SO2           CO  \\\n",
       "count                  2207  2207.000000  2207.000000  2207.000000   \n",
       "unique                 2207          NaN          NaN          NaN   \n",
       "top     2020-03-06 13:00:56          NaN          NaN          NaN   \n",
       "freq                      1          NaN          NaN          NaN   \n",
       "first   2019-12-31 01:00:56          NaN          NaN          NaN   \n",
       "last    2020-03-31 23:00:56          NaN          NaN          NaN   \n",
       "mean                    NaN    49.735173     7.141684   972.760436   \n",
       "std                     NaN    43.780264     5.624395   672.720996   \n",
       "min                     NaN     0.512678     0.746903   275.579400   \n",
       "25%                     NaN    22.616850     3.462235   544.734900   \n",
       "50%                     NaN    35.138080     5.488467   746.606200   \n",
       "75%                     NaN    58.893165     8.820229  1127.219500   \n",
       "max                     NaN   315.032700    50.114850  5671.224000   \n",
       "\n",
       "                NO2          NOX           NO           O3  \n",
       "count   2207.000000  2207.000000  2207.000000  2207.000000  \n",
       "unique          NaN          NaN          NaN          NaN  \n",
       "top             NaN          NaN          NaN          NaN  \n",
       "freq            NaN          NaN          NaN          NaN  \n",
       "first           NaN          NaN          NaN          NaN  \n",
       "last            NaN          NaN          NaN          NaN  \n",
       "mean      54.454861   108.032095    53.576528    43.806591  \n",
       "std       31.286376   122.661496    95.536672    22.247799  \n",
       "min        6.708543     7.811486     0.249827     2.116996  \n",
       "25%       31.362905    38.884840     6.384502    26.887000  \n",
       "50%       46.915160    60.933628    14.194480    43.470310  \n",
       "75%       70.422775   114.960413    45.528445    60.582250  \n",
       "max      177.189500   871.567490   704.102500   111.273700  "
      ]
     },
     "execution_count": 31,
     "metadata": {},
     "output_type": "execute_result"
    }
   ],
   "source": [
    "veri.describe(include = 'all')"
   ]
  },
  {
   "cell_type": "code",
   "execution_count": 33,
   "metadata": {},
   "outputs": [
    {
     "data": {
      "text/plain": [
       "Tarih    2207\n",
       "PM10     2207\n",
       "SO2      2206\n",
       "CO       2207\n",
       "NO2      2204\n",
       "NOX      2207\n",
       "NO       2207\n",
       "O3       2205\n",
       "dtype: int64"
      ]
     },
     "execution_count": 33,
     "metadata": {},
     "output_type": "execute_result"
    }
   ],
   "source": [
    "veri.nunique()"
   ]
  },
  {
   "cell_type": "code",
   "execution_count": 36,
   "metadata": {},
   "outputs": [
    {
     "data": {
      "image/png": "[encoded data removed]",
      "text/plain": [
       "<Figure size 432x288 with 1 Axes>"
      ]
     },
     "metadata": {
      "needs_background": "light"
     },
     "output_type": "display_data"
    }
   ],
   "source": [
    "sns.barplot(x = veri.PM10.index, y = 'PM10' , data = veri);"
   ]
  },
  {
   "cell_type": "code",
   "execution_count": 37,
   "metadata": {},
   "outputs": [
    {
     "data": {
      "text/plain": [
       "<matplotlib.axes._subplots.AxesSubplot at 0x188da909f88>"
      ]
     },
     "execution_count": 37,
     "metadata": {},
     "output_type": "execute_result"
    },
    {
     "data": {
      "image/png": "[encoded data removed]",
      "text/plain": [
       "<Figure size 432x288 with 1 Axes>"
      ]
     },
     "metadata": {
      "needs_background": "light"
     },
     "output_type": "display_data"
    }
   ],
   "source": [
    "veri['PM10'].plot.hist(bins = 90)"
   ]
  },
  {
   "cell_type": "code",
   "execution_count": 39,
   "metadata": {},
   "outputs": [
    {
     "data": {
      "text/plain": [
       "<matplotlib.axes._subplots.AxesSubplot at 0x188dfbe95c8>"
      ]
     },
     "execution_count": 39,
     "metadata": {},
     "output_type": "execute_result"
    },
    {
     "data": {
      "image/png": "[encoded data removed]",
      "text/plain": [
       "<Figure size 432x288 with 1 Axes>"
      ]
     },
     "metadata": {
      "needs_background": "light"
     },
     "output_type": "display_data"
    }
   ],
   "source": [
    "veri['SO2'].plot.hist(bins = 90)"
   ]
  },
  {
   "cell_type": "code",
   "execution_count": 40,
   "metadata": {},
   "outputs": [
    {
     "data": {
      "text/plain": [
       "<matplotlib.axes._subplots.AxesSubplot at 0x188dfc59208>"
      ]
     },
     "execution_count": 40,
     "metadata": {},
     "output_type": "execute_result"
    },
    {
     "data": {
      "image/png": "[encoded data removed]",
      "text/plain": [
       "<Figure size 432x288 with 1 Axes>"
      ]
     },
     "metadata": {
      "needs_background": "light"
     },
     "output_type": "display_data"
    }
   ],
   "source": [
    "veri['CO'].plot.hist(bins = 90)"
   ]
  },
  {
   "cell_type": "code",
   "execution_count": 41,
   "metadata": {},
   "outputs": [
    {
     "data": {
      "text/plain": [
       "<matplotlib.axes._subplots.AxesSubplot at 0x188dfa631c8>"
      ]
     },
     "execution_count": 41,
     "metadata": {},
     "output_type": "execute_result"
    },
    {
     "data": {
      "image/png": "[encoded data removed]",
      "text/plain": [
       "<Figure size 432x288 with 1 Axes>"
      ]
     },
     "metadata": {
      "needs_background": "light"
     },
     "output_type": "display_data"
    }
   ],
   "source": [
    "veri['NO2'].plot.hist(bins = 90)"
   ]
  },
  {
   "cell_type": "code",
   "execution_count": 42,
   "metadata": {},
   "outputs": [
    {
     "data": {
      "text/plain": [
       "<matplotlib.axes._subplots.AxesSubplot at 0x188dfda89c8>"
      ]
     },
     "execution_count": 42,
     "metadata": {},
     "output_type": "execute_result"
    },
    {
     "data": {
      "image/png": "[encoded data removed]",
      "text/plain": [
       "<Figure size 432x288 with 1 Axes>"
      ]
     },
     "metadata": {
      "needs_background": "light"
     },
     "output_type": "display_data"
    }
   ],
   "source": [
    "veri['NOX'].plot.hist(bins = 90)"
   ]
  },
  {
   "cell_type": "code",
   "execution_count": 43,
   "metadata": {},
   "outputs": [
    {
     "data": {
      "text/html": [
       "<div>\n",
       "<style scoped>\n",
       "    .dataframe tbody tr th:only-of-type {\n",
       "        vertical-align: middle;\n",
       "    }\n",
       "\n",
       "    .dataframe tbody tr th {\n",
       "        vertical-align: top;\n",
       "    }\n",
       "\n",
       "    .dataframe thead th {\n",
       "        text-align: right;\n",
       "    }\n",
       "</style>\n",
       "<table border=\"1\" class=\"dataframe\">\n",
       "  <thead>\n",
       "    <tr style=\"text-align: right;\">\n",
       "      <th></th>\n",
       "      <th>PM10</th>\n",
       "      <th>SO2</th>\n",
       "      <th>CO</th>\n",
       "      <th>NO2</th>\n",
       "      <th>NOX</th>\n",
       "      <th>NO</th>\n",
       "      <th>O3</th>\n",
       "    </tr>\n",
       "  </thead>\n",
       "  <tbody>\n",
       "    <tr>\n",
       "      <th>PM10</th>\n",
       "      <td>1.000000</td>\n",
       "      <td>0.706727</td>\n",
       "      <td>0.756868</td>\n",
       "      <td>0.657373</td>\n",
       "      <td>0.660249</td>\n",
       "      <td>0.632413</td>\n",
       "      <td>-0.064874</td>\n",
       "    </tr>\n",
       "    <tr>\n",
       "      <th>SO2</th>\n",
       "      <td>0.706727</td>\n",
       "      <td>1.000000</td>\n",
       "      <td>0.799571</td>\n",
       "      <td>0.731617</td>\n",
       "      <td>0.752224</td>\n",
       "      <td>0.726194</td>\n",
       "      <td>-0.244167</td>\n",
       "    </tr>\n",
       "    <tr>\n",
       "      <th>CO</th>\n",
       "      <td>0.756868</td>\n",
       "      <td>0.799571</td>\n",
       "      <td>1.000000</td>\n",
       "      <td>0.828724</td>\n",
       "      <td>0.880357</td>\n",
       "      <td>0.858901</td>\n",
       "      <td>-0.251717</td>\n",
       "    </tr>\n",
       "    <tr>\n",
       "      <th>NO2</th>\n",
       "      <td>0.657373</td>\n",
       "      <td>0.731617</td>\n",
       "      <td>0.828724</td>\n",
       "      <td>1.000000</td>\n",
       "      <td>0.898628</td>\n",
       "      <td>0.826278</td>\n",
       "      <td>-0.264099</td>\n",
       "    </tr>\n",
       "    <tr>\n",
       "      <th>NOX</th>\n",
       "      <td>0.660249</td>\n",
       "      <td>0.752224</td>\n",
       "      <td>0.880357</td>\n",
       "      <td>0.898628</td>\n",
       "      <td>1.000000</td>\n",
       "      <td>0.989626</td>\n",
       "      <td>-0.246609</td>\n",
       "    </tr>\n",
       "    <tr>\n",
       "      <th>NO</th>\n",
       "      <td>0.632413</td>\n",
       "      <td>0.726194</td>\n",
       "      <td>0.858901</td>\n",
       "      <td>0.826278</td>\n",
       "      <td>0.989626</td>\n",
       "      <td>1.000000</td>\n",
       "      <td>-0.230132</td>\n",
       "    </tr>\n",
       "    <tr>\n",
       "      <th>O3</th>\n",
       "      <td>-0.064874</td>\n",
       "      <td>-0.244167</td>\n",
       "      <td>-0.251717</td>\n",
       "      <td>-0.264099</td>\n",
       "      <td>-0.246609</td>\n",
       "      <td>-0.230132</td>\n",
       "      <td>1.000000</td>\n",
       "    </tr>\n",
       "  </tbody>\n",
       "</table>\n",
       "</div>"
      ],
      "text/plain": [
       "          PM10       SO2        CO       NO2       NOX        NO        O3\n",
       "PM10  1.000000  0.706727  0.756868  0.657373  0.660249  0.632413 -0.064874\n",
       "SO2   0.706727  1.000000  0.799571  0.731617  0.752224  0.726194 -0.244167\n",
       "CO    0.756868  0.799571  1.000000  0.828724  0.880357  0.858901 -0.251717\n",
       "NO2   0.657373  0.731617  0.828724  1.000000  0.898628  0.826278 -0.264099\n",
       "NOX   0.660249  0.752224  0.880357  0.898628  1.000000  0.989626 -0.246609\n",
       "NO    0.632413  0.726194  0.858901  0.826278  0.989626  1.000000 -0.230132\n",
       "O3   -0.064874 -0.244167 -0.251717 -0.264099 -0.246609 -0.230132  1.000000"
      ]
     },
     "execution_count": 43,
     "metadata": {},
     "output_type": "execute_result"
    }
   ],
   "source": [
    "veri.corr()"
   ]
  },
  {
   "cell_type": "code",
   "execution_count": null,
   "metadata": {},
   "outputs": [],
   "source": [
    "\"\"\"\n",
    "PM10 diye tabir ettiğimiz şey Partiküler madde miktarıdır.\n",
    "SO2 CO NO2 ise bildiğimiz üzere bizim atıklarımızdır. Dolayısıyla bu 4 tane değişken arasında pozitif korelasyon olması \n",
    "değildir. \n",
    "Bunların ilk başta geleni NO2 dir. Dikkatli incelenirse genel oalrak en yüksek korelasyonlar ondadır(az farklada olsa)\n",
    "Bunun nedeni en cok üretilen gazdır(azot oksitleri grubundadır)\n",
    "Ondan sonra ise karbon oksitleri gelmekte sonrası isede diğer gazla\n",
    "ben hem görselleştirme hemde analiz açısından NO2-CO üzerinde duracagım cunku 0.80e yakın ciddi bir ilişkiye sahıpler\n",
    "'''"
   ]
  },
  {
   "cell_type": "code",
   "execution_count": 44,
   "metadata": {},
   "outputs": [
    {
     "data": {
      "image/png": "[encoded data removed]",
      "text/plain": [
       "<Figure size 432x288 with 1 Axes>"
      ]
     },
     "metadata": {
      "needs_background": "light"
     },
     "output_type": "display_data"
    }
   ],
   "source": [
    "sns.boxplot(x = veri['PM10']);"
   ]
  },
  {
   "cell_type": "code",
   "execution_count": 45,
   "metadata": {},
   "outputs": [
    {
     "data": {
      "image/png": "[encoded data removed]",
      "text/plain": [
       "<Figure size 432x288 with 1 Axes>"
      ]
     },
     "metadata": {
      "needs_background": "light"
     },
     "output_type": "display_data"
    }
   ],
   "source": [
    "sns.boxplot(x = veri['SO2']);"
   ]
  },
  {
   "cell_type": "code",
   "execution_count": 46,
   "metadata": {},
   "outputs": [
    {
     "data": {
      "text/plain": [
       "<seaborn.axisgrid.FacetGrid at 0x188dffea9c8>"
      ]
     },
     "execution_count": 46,
     "metadata": {},
     "output_type": "execute_result"
    },
    {
     "data": {
      "image/png": "[encoded data removed]",
      "text/plain": [
       "<Figure size 360x360 with 1 Axes>"
      ]
     },
     "metadata": {
      "needs_background": "light"
     },
     "output_type": "display_data"
    }
   ],
   "source": [
    "sns.catplot(y = \"PM10\", kind = \"violin\", data = veri)"
   ]
  },
  {
   "cell_type": "code",
   "execution_count": 47,
   "metadata": {},
   "outputs": [
    {
     "data": {
      "text/plain": [
       "<seaborn.axisgrid.FacetGrid at 0x188e006e608>"
      ]
     },
     "execution_count": 47,
     "metadata": {},
     "output_type": "execute_result"
    },
    {
     "data": {
      "image/png": "[encoded data removed]",
      "text/plain": [
       "<Figure size 360x360 with 1 Axes>"
      ]
     },
     "metadata": {
      "needs_background": "light"
     },
     "output_type": "display_data"
    }
   ],
   "source": [
    "sns.catplot(y = \"SO2\", kind = \"violin\", data = veri)"
   ]
  },
  {
   "cell_type": "code",
   "execution_count": null,
   "metadata": {},
   "outputs": [],
   "source": []
  },
  {
   "cell_type": "code",
   "execution_count": null,
   "metadata": {},
   "outputs": [],
   "source": []
  },
  {
   "cell_type": "code",
   "execution_count": null,
   "metadata": {},
   "outputs": [],
   "source": []
  }
 ],
 "metadata": {
  "kernelspec": {
   "display_name": "Python 3",
   "language": "python",
   "name": "python3"
  },
  "language_info": {
   "codemirror_mode": {
    "name": "ipython",
    "version": 3
   },
   "file_extension": ".py",
   "mimetype": "text/x-python",
   "name": "python",
   "nbconvert_exporter": "python",
   "pygments_lexer": "ipython3",
   "version": "3.7.7"
  }
 },
 "nbformat": 4,
 "nbformat_minor": 4
}
